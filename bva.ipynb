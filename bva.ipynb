{
  "nbformat": 4,
  "nbformat_minor": 0,
  "metadata": {
    "colab": {
      "name": "bva.ipynb",
      "provenance": [],
      "collapsed_sections": [],
      "authorship_tag": "ABX9TyMxS2kWgabB8tp5sn0B+4EH",
      "include_colab_link": true
    },
    "kernelspec": {
      "name": "python3",
      "display_name": "Python 3"
    }
  },
  "cells": [
    {
      "cell_type": "markdown",
      "metadata": {
        "id": "view-in-github",
        "colab_type": "text"
      },
      "source": [
        "<a href=\"https://colab.research.google.com/github/sadikul1500/software-testing/blob/main/bva.ipynb\" target=\"_parent\"><img src=\"https://colab.research.google.com/assets/colab-badge.svg\" alt=\"Open In Colab\"/></a>"
      ]
    },
    {
      "cell_type": "code",
      "metadata": {
        "id": "E-IXFIgmfKPC"
      },
      "source": [
        "def bvc(f):\r\n",
        "  #n = len(var)\r\n",
        "  id = 1\r\n",
        "  for i in range(n):\r\n",
        "    \r\n",
        "    l = [var[i][0], var[i][0]+1, var[i][1], var[i][1]-1]\r\n",
        "    for j in range(4):\r\n",
        "      #print(id, end=',')\r\n",
        "      f.write(str(id) + ',')\r\n",
        "      id += 1\r\n",
        "      for k in range(n):\r\n",
        "        if k == i:\r\n",
        "          #print(l[j], end=',')\r\n",
        "          f.write(str(l[j]) + ',')\r\n",
        "        else:\r\n",
        "          #print(var[k][-1], end=',')\r\n",
        "          f.write(str(var[k][-1]) + ',')\r\n",
        "      f.write('\\n')\r\n",
        "      #print()\r\n",
        "\r\n",
        "  #print(id, end=',')\r\n",
        "  f.write(str(id) + ',')\r\n",
        "  for k in range(n):\r\n",
        "    #print(var[k][-1], end=',')\r\n",
        "    f.write(str(var[k][-1]) + ',')\r\n",
        "  #print()\r\n",
        "  f.write('\\n')\r\n"
      ],
      "execution_count": null,
      "outputs": []
    },
    {
      "cell_type": "code",
      "metadata": {
        "id": "78eNcWo97tCA"
      },
      "source": [
        "def robustness(f):\r\n",
        "  bvc(f)\r\n",
        "  id = 4*n + 1 + 1\r\n",
        "  \r\n",
        "  for i in range(n):\r\n",
        "    \r\n",
        "    l = [var[i][0]-1, var[i][1]+1]\r\n",
        "    for j in range(2):\r\n",
        "      #print(id, end=',')\r\n",
        "      f.write(str(id) + ',')\r\n",
        "      id += 1\r\n",
        "      for k in range(n):\r\n",
        "        if k == i:\r\n",
        "          #print(l[j], end=',')\r\n",
        "          f.write(str(l[j]) + ',')\r\n",
        "        else:\r\n",
        "          #print(var[k][-1], end=',')\r\n",
        "          f.write(str(var[k][-1]) + ',')\r\n",
        "      #print()\r\n",
        "      f.write('\\n')"
      ],
      "execution_count": null,
      "outputs": []
    },
    {
      "cell_type": "code",
      "metadata": {
        "id": "TwhVlyuZAdoK"
      },
      "source": [
        "def worstCase(f):\r\n",
        "  for i in range(n):\r\n",
        "    var[i] += [var[i][0]+1, var[i][1]-1]\r\n",
        "  \r\n",
        "  #id = 1\r\n",
        "  \r\n",
        "  s = ['1']*n\r\n",
        "\r\n",
        "  loop = 5**n\r\n",
        "\r\n",
        "  for i in range(1, loop+1):\r\n",
        "    #print(i, end=',')\r\n",
        "    f.write(str(i) + ',')\r\n",
        "\r\n",
        "    for j in range(n):\r\n",
        "      #print(var[j][int(s[j])-1], end=',')\r\n",
        "      f.write(str(var[j][int(s[j])-1]) + ',')\r\n",
        "    #print()\r\n",
        "    f.write('\\n')\r\n",
        "\r\n",
        "    if s[-1] == '5':\r\n",
        "\r\n",
        "      for k in range(n):\r\n",
        "        if s[k] == '5':\r\n",
        "          for p in range(k,n):\r\n",
        "            s[p] = '1'\r\n",
        "          \r\n",
        "          s[k-1] = str(int(s[k-1]) + 1)\r\n",
        "          break\r\n",
        "\r\n",
        "    else:\r\n",
        "      t = ''\r\n",
        "      for k in range(n):\r\n",
        "        t += s[k]\r\n",
        "\r\n",
        "      num = int(t) + 1\r\n",
        "      x = str(num)\r\n",
        "      for k in range(n):\r\n",
        "        s[k] = x[k]\r\n",
        "    \r\n",
        "    \r\n",
        "    \r\n",
        "\r\n",
        "\r\n"
      ],
      "execution_count": null,
      "outputs": []
    },
    {
      "cell_type": "code",
      "metadata": {
        "colab": {
          "base_uri": "https://localhost:8080/"
        },
        "id": "q2f1Y7Oz1OF8",
        "outputId": "a8ac0044-ee2a-4520-d45e-0ee51eced293"
      },
      "source": [
        "n = int(input('number of parameters: '))\r\n",
        "var = []\r\n",
        "\r\n",
        "for _ in range(n):\r\n",
        "  print('\\nfor variable ' + str(_+1))\r\n",
        "  mini = int(input('minimum value of the variable: '))\r\n",
        "  maxi = int(input('maximum value of the variable: '))\r\n",
        "\r\n",
        "  var += [[mini, maxi, (mini+maxi)//2]]\r\n",
        "\r\n",
        "print(var)\r\n"
      ],
      "execution_count": null,
      "outputs": [
        {
          "output_type": "stream",
          "text": [
            "number of parameters: 2\n",
            "\n",
            "for variable 1\n",
            "minimum value of the variable: 12\n",
            "maximum value of the variable: 24\n",
            "\n",
            "for variable 2\n",
            "minimum value of the variable: 35\n",
            "maximum value of the variable: 45\n",
            "[[12, 24, 18], [35, 45, 40]]\n"
          ],
          "name": "stdout"
        }
      ]
    },
    {
      "cell_type": "code",
      "metadata": {
        "colab": {
          "base_uri": "https://localhost:8080/",
          "height": 17
        },
        "id": "PjNF3XdsnT3U",
        "outputId": "927394a3-2d10-4a28-fc3c-f897a3da8c71"
      },
      "source": [
        "from google.colab import files\r\n",
        "import csv\r\n",
        "\r\n",
        "header = ['id', 'a', 'b', 'c', 'd', 'e', 'f', 'g', 'h', 'i', 'j', 'k', 'l', 'm', 'n','o','p']\r\n",
        "file_bvc = 'bvc.csv'\r\n",
        "with open(file_bvc, 'w') as f:\r\n",
        "  cw = csv.writer(f)\r\n",
        "  cw.writerow(header[:n+1])\r\n",
        "  bvc(f)\r\n",
        "  f.close() \r\n",
        "\r\n",
        "files.download(file_bvc)\r\n",
        "\r\n",
        "file_robust = 'robustness.csv'\r\n",
        "with open(file_robust, 'w') as f:\r\n",
        "  cw = csv.writer(f)\r\n",
        "  cw.writerow(header[:n+1])\r\n",
        "  robustness(f)\r\n",
        "  f.close()\r\n",
        "\r\n",
        "files.download(file_robust)\r\n",
        "\r\n",
        "file_worst = 'worstCase.csv'\r\n",
        "with open(file_worst, 'w') as f:\r\n",
        "  cw = csv.writer(f)\r\n",
        "  cw.writerow(header[:n+1])\r\n",
        "  worstCase(f)\r\n",
        "  f.close()\r\n",
        "\r\n",
        "files.download(file_worst)"
      ],
      "execution_count": null,
      "outputs": [
        {
          "output_type": "display_data",
          "data": {
            "application/javascript": [
              "\n",
              "    async function download(id, filename, size) {\n",
              "      if (!google.colab.kernel.accessAllowed) {\n",
              "        return;\n",
              "      }\n",
              "      const div = document.createElement('div');\n",
              "      const label = document.createElement('label');\n",
              "      label.textContent = `Downloading \"${filename}\": `;\n",
              "      div.appendChild(label);\n",
              "      const progress = document.createElement('progress');\n",
              "      progress.max = size;\n",
              "      div.appendChild(progress);\n",
              "      document.body.appendChild(div);\n",
              "\n",
              "      const buffers = [];\n",
              "      let downloaded = 0;\n",
              "\n",
              "      const channel = await google.colab.kernel.comms.open(id);\n",
              "      // Send a message to notify the kernel that we're ready.\n",
              "      channel.send({})\n",
              "\n",
              "      for await (const message of channel.messages) {\n",
              "        // Send a message to notify the kernel that we're ready.\n",
              "        channel.send({})\n",
              "        if (message.buffers) {\n",
              "          for (const buffer of message.buffers) {\n",
              "            buffers.push(buffer);\n",
              "            downloaded += buffer.byteLength;\n",
              "            progress.value = downloaded;\n",
              "          }\n",
              "        }\n",
              "      }\n",
              "      const blob = new Blob(buffers, {type: 'application/binary'});\n",
              "      const a = document.createElement('a');\n",
              "      a.href = window.URL.createObjectURL(blob);\n",
              "      a.download = filename;\n",
              "      div.appendChild(a);\n",
              "      a.click();\n",
              "      div.remove();\n",
              "    }\n",
              "  "
            ],
            "text/plain": [
              "<IPython.core.display.Javascript object>"
            ]
          },
          "metadata": {
            "tags": []
          }
        },
        {
          "output_type": "display_data",
          "data": {
            "application/javascript": [
              "download(\"download_db8e9e45-6440-497e-9114-01a0afe55d2d\", \"bvc.csv\", 89)"
            ],
            "text/plain": [
              "<IPython.core.display.Javascript object>"
            ]
          },
          "metadata": {
            "tags": []
          }
        },
        {
          "output_type": "display_data",
          "data": {
            "application/javascript": [
              "\n",
              "    async function download(id, filename, size) {\n",
              "      if (!google.colab.kernel.accessAllowed) {\n",
              "        return;\n",
              "      }\n",
              "      const div = document.createElement('div');\n",
              "      const label = document.createElement('label');\n",
              "      label.textContent = `Downloading \"${filename}\": `;\n",
              "      div.appendChild(label);\n",
              "      const progress = document.createElement('progress');\n",
              "      progress.max = size;\n",
              "      div.appendChild(progress);\n",
              "      document.body.appendChild(div);\n",
              "\n",
              "      const buffers = [];\n",
              "      let downloaded = 0;\n",
              "\n",
              "      const channel = await google.colab.kernel.comms.open(id);\n",
              "      // Send a message to notify the kernel that we're ready.\n",
              "      channel.send({})\n",
              "\n",
              "      for await (const message of channel.messages) {\n",
              "        // Send a message to notify the kernel that we're ready.\n",
              "        channel.send({})\n",
              "        if (message.buffers) {\n",
              "          for (const buffer of message.buffers) {\n",
              "            buffers.push(buffer);\n",
              "            downloaded += buffer.byteLength;\n",
              "            progress.value = downloaded;\n",
              "          }\n",
              "        }\n",
              "      }\n",
              "      const blob = new Blob(buffers, {type: 'application/binary'});\n",
              "      const a = document.createElement('a');\n",
              "      a.href = window.URL.createObjectURL(blob);\n",
              "      a.download = filename;\n",
              "      div.appendChild(a);\n",
              "      a.click();\n",
              "      div.remove();\n",
              "    }\n",
              "  "
            ],
            "text/plain": [
              "<IPython.core.display.Javascript object>"
            ]
          },
          "metadata": {
            "tags": []
          }
        },
        {
          "output_type": "display_data",
          "data": {
            "application/javascript": [
              "download(\"download_c648fe63-2452-409e-81e0-088bd495038f\", \"robustness.csv\", 129)"
            ],
            "text/plain": [
              "<IPython.core.display.Javascript object>"
            ]
          },
          "metadata": {
            "tags": []
          }
        },
        {
          "output_type": "display_data",
          "data": {
            "application/javascript": [
              "\n",
              "    async function download(id, filename, size) {\n",
              "      if (!google.colab.kernel.accessAllowed) {\n",
              "        return;\n",
              "      }\n",
              "      const div = document.createElement('div');\n",
              "      const label = document.createElement('label');\n",
              "      label.textContent = `Downloading \"${filename}\": `;\n",
              "      div.appendChild(label);\n",
              "      const progress = document.createElement('progress');\n",
              "      progress.max = size;\n",
              "      div.appendChild(progress);\n",
              "      document.body.appendChild(div);\n",
              "\n",
              "      const buffers = [];\n",
              "      let downloaded = 0;\n",
              "\n",
              "      const channel = await google.colab.kernel.comms.open(id);\n",
              "      // Send a message to notify the kernel that we're ready.\n",
              "      channel.send({})\n",
              "\n",
              "      for await (const message of channel.messages) {\n",
              "        // Send a message to notify the kernel that we're ready.\n",
              "        channel.send({})\n",
              "        if (message.buffers) {\n",
              "          for (const buffer of message.buffers) {\n",
              "            buffers.push(buffer);\n",
              "            downloaded += buffer.byteLength;\n",
              "            progress.value = downloaded;\n",
              "          }\n",
              "        }\n",
              "      }\n",
              "      const blob = new Blob(buffers, {type: 'application/binary'});\n",
              "      const a = document.createElement('a');\n",
              "      a.href = window.URL.createObjectURL(blob);\n",
              "      a.download = filename;\n",
              "      div.appendChild(a);\n",
              "      a.click();\n",
              "      div.remove();\n",
              "    }\n",
              "  "
            ],
            "text/plain": [
              "<IPython.core.display.Javascript object>"
            ]
          },
          "metadata": {
            "tags": []
          }
        },
        {
          "output_type": "display_data",
          "data": {
            "application/javascript": [
              "download(\"download_c430fbb2-17a7-4158-8538-3148a2f6bc45\", \"worstCase.csv\", 249)"
            ],
            "text/plain": [
              "<IPython.core.display.Javascript object>"
            ]
          },
          "metadata": {
            "tags": []
          }
        }
      ]
    }
  ]
}